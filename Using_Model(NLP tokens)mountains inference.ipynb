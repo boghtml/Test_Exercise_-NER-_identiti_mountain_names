{
 "cells": [
  {
   "cell_type": "markdown",
   "id": "f647094d",
   "metadata": {},
   "source": [
    "# This is the second part of project\n",
    "### A namely the use of an untrained NLP model"
   ]
  },
  {
   "cell_type": "markdown",
   "id": "c8887cd7",
   "metadata": {},
   "source": [
    "## Importing libraries needed for this notebook <a class=\"anchor\"  id=\"h2.5\"></a>"
   ]
  },
  {
   "cell_type": "code",
   "execution_count": 34,
   "id": "2f931c51",
   "metadata": {},
   "outputs": [],
   "source": [
    "import pandas as pd\n",
    "import json\n",
    "import os\n",
    "import warnings\n",
    "warnings.filterwarnings('ignore')"
   ]
  },
  {
   "cell_type": "markdown",
   "id": "d432ed73",
   "metadata": {},
   "source": [
    "####   In the part of project I use the following libraries:\n",
    "- pandas - for working with data in DataFrame format.\n",
    "- json - for handling JSON data.\n",
    "- os - for interaction with the operating system.\n",
    "- warnings - for managing warnings.\n",
    "- spacy - for natural language processing and visualization of results.\n"
   ]
  },
  {
   "cell_type": "markdown",
   "id": "0ba67110",
   "metadata": {},
   "source": [
    "## Testing and Utilization\n",
    "#### After loading the trained model, I can easily apply it to identify entities in new texts. During testing, various sentences are input to assess the model's effectiveness in recognizing geographical names and other entities related to mountainous regions."
   ]
  },
  {
   "cell_type": "code",
   "execution_count": 27,
   "id": "f849c219",
   "metadata": {},
   "outputs": [],
   "source": [
    "nlp1 = spacy.load(r\".\\output\\model-best\") #load the best model"
   ]
  },
  {
   "cell_type": "code",
   "execution_count": 28,
   "id": "4b90cbbc",
   "metadata": {},
   "outputs": [],
   "source": [
    "doc = nlp1(\"I dream of climbing Mount Everest one day and experiencing the breathtaking views from its summit.\") # input sample text"
   ]
  },
  {
   "cell_type": "code",
   "execution_count": 29,
   "id": "170b2301",
   "metadata": {},
   "outputs": [
    {
     "data": {
      "text/html": [
       "<span class=\"tex2jax_ignore\"><div class=\"entities\" style=\"line-height: 2.5; direction: ltr\">I dream of climbing \n",
       "<mark class=\"entity\" style=\"background: #ddd; padding: 0.45em 0.6em; margin: 0 0.25em; line-height: 1; border-radius: 0.35em;\">\n",
       "    Mount Everest\n",
       "    <span style=\"font-size: 0.8em; font-weight: bold; line-height: 1; border-radius: 0.35em; vertical-align: middle; margin-left: 0.5rem\">MOUNT EVEREST</span>\n",
       "</mark>\n",
       " one day and experiencing the breathtaking views from its summit.</div></span>"
      ],
      "text/plain": [
       "<IPython.core.display.HTML object>"
      ]
     },
     "metadata": {},
     "output_type": "display_data"
    }
   ],
   "source": [
    "spacy.displacy.render(doc, style=\"ent\", jupyter=True) # display in Jupyter"
   ]
  },
  {
   "cell_type": "code",
   "execution_count": 30,
   "id": "1e0365c2",
   "metadata": {},
   "outputs": [],
   "source": [
    "doc = nlp1(\"Denali, formerly known as Mount McKinley, and Matterhorn are iconic peaks that attract climbers and adventurers.\") # input sample text"
   ]
  },
  {
   "cell_type": "code",
   "execution_count": 31,
   "id": "e68f1f47",
   "metadata": {},
   "outputs": [
    {
     "data": {
      "text/html": [
       "<span class=\"tex2jax_ignore\"><div class=\"entities\" style=\"line-height: 2.5; direction: ltr\">Denali, formerly known as \n",
       "<mark class=\"entity\" style=\"background: #ddd; padding: 0.45em 0.6em; margin: 0 0.25em; line-height: 1; border-radius: 0.35em;\">\n",
       "    Mount McKinley\n",
       "    <span style=\"font-size: 0.8em; font-weight: bold; line-height: 1; border-radius: 0.35em; vertical-align: middle; margin-left: 0.5rem\">MOUNT MCKINLEY</span>\n",
       "</mark>\n",
       ", and \n",
       "<mark class=\"entity\" style=\"background: #ddd; padding: 0.45em 0.6em; margin: 0 0.25em; line-height: 1; border-radius: 0.35em;\">\n",
       "    Matterhorn\n",
       "    <span style=\"font-size: 0.8em; font-weight: bold; line-height: 1; border-radius: 0.35em; vertical-align: middle; margin-left: 0.5rem\">CARPATHIANS</span>\n",
       "</mark>\n",
       " are iconic peaks that attract climbers and adventurers.</div></span>"
      ],
      "text/plain": [
       "<IPython.core.display.HTML object>"
      ]
     },
     "metadata": {},
     "output_type": "display_data"
    }
   ],
   "source": [
    "spacy.displacy.render(doc, style=\"ent\", jupyter=True)"
   ]
  },
  {
   "cell_type": "code",
   "execution_count": 32,
   "id": "357e4fd4",
   "metadata": {},
   "outputs": [
    {
     "data": {
      "text/html": [
       "<span class=\"tex2jax_ignore\"><div class=\"entities\" style=\"line-height: 2.5; direction: ltr\">I dream of climbing \n",
       "<mark class=\"entity\" style=\"background: #ddd; padding: 0.45em 0.6em; margin: 0 0.25em; line-height: 1; border-radius: 0.35em;\">\n",
       "    Mount Everest\n",
       "    <span style=\"font-size: 0.8em; font-weight: bold; line-height: 1; border-radius: 0.35em; vertical-align: middle; margin-left: 0.5rem\">MOUNT EVEREST</span>\n",
       "</mark>\n",
       " one day and experiencing the breathtaking views from its summit.</div></span>"
      ],
      "text/plain": [
       "<IPython.core.display.HTML object>"
      ]
     },
     "metadata": {},
     "output_type": "display_data"
    },
    {
     "data": {
      "text/html": [
       "<span class=\"tex2jax_ignore\"><div class=\"entities\" style=\"line-height: 2.5; direction: ltr\">Denali, formerly known as \n",
       "<mark class=\"entity\" style=\"background: #ddd; padding: 0.45em 0.6em; margin: 0 0.25em; line-height: 1; border-radius: 0.35em;\">\n",
       "    Mount McKinley\n",
       "    <span style=\"font-size: 0.8em; font-weight: bold; line-height: 1; border-radius: 0.35em; vertical-align: middle; margin-left: 0.5rem\">MOUNT MCKINLEY</span>\n",
       "</mark>\n",
       ", and \n",
       "<mark class=\"entity\" style=\"background: #ddd; padding: 0.45em 0.6em; margin: 0 0.25em; line-height: 1; border-radius: 0.35em;\">\n",
       "    Matterhorn\n",
       "    <span style=\"font-size: 0.8em; font-weight: bold; line-height: 1; border-radius: 0.35em; vertical-align: middle; margin-left: 0.5rem\">CARPATHIANS</span>\n",
       "</mark>\n",
       " are iconic peaks that attract climbers and adventurers.</div></span>"
      ],
      "text/plain": [
       "<IPython.core.display.HTML object>"
      ]
     },
     "metadata": {},
     "output_type": "display_data"
    },
    {
     "data": {
      "text/html": [
       "<span class=\"tex2jax_ignore\"><div class=\"entities\" style=\"line-height: 2.5; direction: ltr\">The \n",
       "<mark class=\"entity\" style=\"background: #ddd; padding: 0.45em 0.6em; margin: 0 0.25em; line-height: 1; border-radius: 0.35em;\">\n",
       "    Ural Mountains\n",
       "    <span style=\"font-size: 0.8em; font-weight: bold; line-height: 1; border-radius: 0.35em; vertical-align: middle; margin-left: 0.5rem\">URAL MOUNTAINS</span>\n",
       "</mark>\n",
       ", rich in natural resources, have a significant impact on the region's geography.</div></span>"
      ],
      "text/plain": [
       "<IPython.core.display.HTML object>"
      ]
     },
     "metadata": {},
     "output_type": "display_data"
    }
   ],
   "source": [
    "test_sentences = [\n",
    "    \"I dream of climbing Mount Everest one day and experiencing the breathtaking views from its summit.\",\n",
    "    \"Denali, formerly known as Mount McKinley, and Matterhorn are iconic peaks that attract climbers and adventurers.\",\n",
    "    \"The Ural Mountains, rich in natural resources, have a significant impact on the region's geography.\",\n",
    "]\n",
    "\n",
    "for sentence in test_sentences:\n",
    "    doc = nlp1(sentence)\n",
    "    \n",
    "    spacy.displacy.render(doc, style=\"ent\", jupyter=True)"
   ]
  },
  {
   "cell_type": "code",
   "execution_count": 33,
   "id": "24797de9",
   "metadata": {},
   "outputs": [
    {
     "data": {
      "text/html": [
       "<span class=\"tex2jax_ignore\"><div class=\"entities\" style=\"line-height: 2.5; direction: ltr\">I met a person named Everest, and they had a great personality</div></span>"
      ],
      "text/plain": [
       "<IPython.core.display.HTML object>"
      ]
     },
     "metadata": {},
     "output_type": "display_data"
    }
   ],
   "source": [
    "doc = nlp1(\"I met a person named Everest, and they had a great personality\") # input sample text    \n",
    "spacy.displacy.render(doc, style=\"ent\", jupyter=True)"
   ]
  },
  {
   "cell_type": "code",
   "execution_count": 25,
   "id": "ccb4d210",
   "metadata": {},
   "outputs": [
    {
     "name": "stdout",
     "output_type": "stream",
     "text": [
      "Введіть кількість речень для тестування: 3\n",
      "Введіть речення для тестування: Введіть речення для тестування: Denali, formerly known as Mount McKinley, and Matterhorn are iconic peaks that attract climbers and adventurers.\n",
      "Результати для речення:\n"
     ]
    },
    {
     "data": {
      "text/html": [
       "<span class=\"tex2jax_ignore\"><div class=\"entities\" style=\"line-height: 2.5; direction: ltr\">Введіть речення для тестування: Denali, formerly known as \n",
       "<mark class=\"entity\" style=\"background: #ddd; padding: 0.45em 0.6em; margin: 0 0.25em; line-height: 1; border-radius: 0.35em;\">\n",
       "    Mount McKinley\n",
       "    <span style=\"font-size: 0.8em; font-weight: bold; line-height: 1; border-radius: 0.35em; vertical-align: middle; margin-left: 0.5rem\">MOUNT MCKINLEY</span>\n",
       "</mark>\n",
       ", and \n",
       "<mark class=\"entity\" style=\"background: #ddd; padding: 0.45em 0.6em; margin: 0 0.25em; line-height: 1; border-radius: 0.35em;\">\n",
       "    Matterhorn\n",
       "    <span style=\"font-size: 0.8em; font-weight: bold; line-height: 1; border-radius: 0.35em; vertical-align: middle; margin-left: 0.5rem\">CARPATHIANS</span>\n",
       "</mark>\n",
       " are iconic peaks that attract climbers and adventurers.</div></span>"
      ],
      "text/plain": [
       "<IPython.core.display.HTML object>"
      ]
     },
     "metadata": {},
     "output_type": "display_data"
    },
    {
     "name": "stdout",
     "output_type": "stream",
     "text": [
      "Введіть речення для тестування: The Ural Mountains, rich in natural resources, have a significant impact on the region's geography.\n",
      "Результати для речення:\n"
     ]
    },
    {
     "data": {
      "text/html": [
       "<span class=\"tex2jax_ignore\"><div class=\"entities\" style=\"line-height: 2.5; direction: ltr\">The \n",
       "<mark class=\"entity\" style=\"background: #ddd; padding: 0.45em 0.6em; margin: 0 0.25em; line-height: 1; border-radius: 0.35em;\">\n",
       "    Ural Mountains\n",
       "    <span style=\"font-size: 0.8em; font-weight: bold; line-height: 1; border-radius: 0.35em; vertical-align: middle; margin-left: 0.5rem\">URAL MOUNTAINS</span>\n",
       "</mark>\n",
       ", rich in natural resources, have a significant impact on the region's geography.</div></span>"
      ],
      "text/plain": [
       "<IPython.core.display.HTML object>"
      ]
     },
     "metadata": {},
     "output_type": "display_data"
    },
    {
     "name": "stdout",
     "output_type": "stream",
     "text": [
      "Введіть речення для тестування: I dream of climbing Mount Everest one day and experiencing the breathtaking views from its summit.\n",
      "Результати для речення:\n"
     ]
    },
    {
     "data": {
      "text/html": [
       "<span class=\"tex2jax_ignore\"><div class=\"entities\" style=\"line-height: 2.5; direction: ltr\">I dream of climbing \n",
       "<mark class=\"entity\" style=\"background: #ddd; padding: 0.45em 0.6em; margin: 0 0.25em; line-height: 1; border-radius: 0.35em;\">\n",
       "    Mount Everest\n",
       "    <span style=\"font-size: 0.8em; font-weight: bold; line-height: 1; border-radius: 0.35em; vertical-align: middle; margin-left: 0.5rem\">MOUNT EVEREST</span>\n",
       "</mark>\n",
       " one day and experiencing the breathtaking views from its summit.</div></span>"
      ],
      "text/plain": [
       "<IPython.core.display.HTML object>"
      ]
     },
     "metadata": {},
     "output_type": "display_data"
    }
   ],
   "source": [
    "num_sentences = int(input(\"Enter the number of sentences for testing: \"))\n",
    "\n",
    "for _ in range(num_sentences):\n",
    "    test_sentence = input(\"Enter a sentence for testing: \")\n",
    "    \n",
    "    # Processing the sentence using spaCy\n",
    "    doc = nlp1(test_sentence)\n",
    "    \n",
    "    # Displaying the results\n",
    "    print(\"Results for the sentence:\")\n",
    "    spacy.displacy.render(doc, style=\"ent\", jupyter=True)"
   ]
  },
  {
   "cell_type": "markdown",
   "id": "8bc8f654",
   "metadata": {},
   "source": [
    "### Testing for you"
   ]
  },
  {
   "cell_type": "code",
   "execution_count": null,
   "id": "04e4366b",
   "metadata": {},
   "outputs": [],
   "source": [
    "num_sentences = int(input(\"Enter the number of sentences for testing: \"))\n",
    "\n",
    "for _ in range(num_sentences):\n",
    "    test_sentence = input(\"Enter a sentence for testing: \")\n",
    "    \n",
    "    # Processing the sentence using spaCy\n",
    "    doc = nlp1(test_sentence)\n",
    "    \n",
    "    # Displaying the results\n",
    "    print(\"Results for the sentence:\")\n",
    "    spacy.displacy.render(doc, style=\"ent\", jupyter=True)"
   ]
  }
 ],
 "metadata": {
  "kernelspec": {
   "display_name": "Python 3 (ipykernel)",
   "language": "python",
   "name": "python3"
  },
  "language_info": {
   "codemirror_mode": {
    "name": "ipython",
    "version": 3
   },
   "file_extension": ".py",
   "mimetype": "text/x-python",
   "name": "python",
   "nbconvert_exporter": "python",
   "pygments_lexer": "ipython3",
   "version": "3.11.4"
  }
 },
 "nbformat": 4,
 "nbformat_minor": 5
}
